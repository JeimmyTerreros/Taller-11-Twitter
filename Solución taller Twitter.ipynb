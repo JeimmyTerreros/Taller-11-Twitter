{
 "cells": [
  {
   "cell_type": "code",
   "execution_count": 1,
   "id": "cbac083a",
   "metadata": {},
   "outputs": [],
   "source": [
    "import pandas as pd\n",
    "import tweepy"
   ]
  },
  {
   "cell_type": "code",
   "execution_count": 2,
   "id": "607b1a26",
   "metadata": {},
   "outputs": [
    {
     "data": {
      "text/plain": [
       "dict_keys(['api_key', 'api_secret_key', 'access_token', 'access_token_secret', 'bearer_token'])"
      ]
     },
     "execution_count": 2,
     "metadata": {},
     "output_type": "execute_result"
    }
   ],
   "source": [
    "# Leer las llaves\n",
    "keys = pd.read_csv(\"C:/Users/yayat/OneDrive/Documentos/Jeimmy/Universidad/NPL/Clase del 13-05-2021/mis_llaves.csv\", header=None)\n",
    "keys = dict(zip(keys[0],keys[1]))\n",
    "keys.keys()"
   ]
  },
  {
   "cell_type": "code",
   "execution_count": 3,
   "id": "af43c507",
   "metadata": {},
   "outputs": [],
   "source": [
    "# Autenticar a través de la API \n",
    "auth = tweepy.OAuthHandler(keys['api_key'], keys['api_secret_key'])\n",
    "auth.set_access_token(keys['access_token'], keys['access_token_secret'])\n",
    "api = tweepy.API(auth, wait_on_rate_limit=True)"
   ]
  },
  {
   "cell_type": "code",
   "execution_count": 28,
   "id": "5477b4e1",
   "metadata": {},
   "outputs": [],
   "source": [
    "# Paso 4 recolectar datos\n",
    "tweets = tweepy.Cursor(api.search,\n",
    "                       q=['paro nacional -RT'], # RT es que quite los twits que son retwitiados\n",
    "                       lang='es',\n",
    "                       geocode='4.7110,-74.0721,100km', # es una cadena de texto que permite buscar en ese punto las cordenadas\n",
    "                       tweet_mode='extended',# la cantidad de carqacteres extendida\n",
    "                       include_rts=False, # para no incluir retwites\n",
    "                       ).items(100) # el numero de twits a buscar"
   ]
  },
  {
   "cell_type": "code",
   "execution_count": 29,
   "id": "ea837bd1",
   "metadata": {},
   "outputs": [],
   "source": [
    "t = [tweet for tweet in tweets]"
   ]
  },
  {
   "cell_type": "code",
   "execution_count": 30,
   "id": "99ed4b66",
   "metadata": {},
   "outputs": [
    {
     "data": {
      "text/html": [
       "<div>\n",
       "<style scoped>\n",
       "    .dataframe tbody tr th:only-of-type {\n",
       "        vertical-align: middle;\n",
       "    }\n",
       "\n",
       "    .dataframe tbody tr th {\n",
       "        vertical-align: top;\n",
       "    }\n",
       "\n",
       "    .dataframe thead th {\n",
       "        text-align: right;\n",
       "    }\n",
       "</style>\n",
       "<table border=\"1\" class=\"dataframe\">\n",
       "  <thead>\n",
       "    <tr style=\"text-align: right;\">\n",
       "      <th></th>\n",
       "      <th>tweets</th>\n",
       "      <th>date</th>\n",
       "      <th>city</th>\n",
       "      <th>user_location</th>\n",
       "      <th>id</th>\n",
       "      <th>link</th>\n",
       "    </tr>\n",
       "  </thead>\n",
       "  <tbody>\n",
       "    <tr>\n",
       "      <th>0</th>\n",
       "      <td>Ya está disponible el podcast que grabé junto ...</td>\n",
       "      <td>2021-05-17 20:11:49</td>\n",
       "      <td>Bogotá</td>\n",
       "      <td>Bogotá, Colombia.</td>\n",
       "      <td>1394385185781731333</td>\n",
       "      <td>https://twitter.com/i/web/stuatus/139438518578...</td>\n",
       "    </tr>\n",
       "    <tr>\n",
       "      <th>1</th>\n",
       "      <td>“Nos quitaron un ojo pero seguimos teniendo nu...</td>\n",
       "      <td>2021-05-17 20:05:00</td>\n",
       "      <td>Bogotá</td>\n",
       "      <td>Bogotá, Colombia</td>\n",
       "      <td>1394383469938024450</td>\n",
       "      <td>https://twitter.com/i/web/stuatus/139438346993...</td>\n",
       "    </tr>\n",
       "    <tr>\n",
       "      <th>2</th>\n",
       "      <td>#17May Convocatorias del denominado Comité de ...</td>\n",
       "      <td>2021-05-17 20:04:42</td>\n",
       "      <td>Bogotá</td>\n",
       "      <td>Bogotá, Colombia</td>\n",
       "      <td>1394383397187989507</td>\n",
       "      <td>https://twitter.com/i/web/stuatus/139438339718...</td>\n",
       "    </tr>\n",
       "    <tr>\n",
       "      <th>3</th>\n",
       "      <td>Una nueva agenda nacional: análisis del excomi...</td>\n",
       "      <td>2021-05-17 20:03:31</td>\n",
       "      <td>Bogotá</td>\n",
       "      <td>Bogotá</td>\n",
       "      <td>1394383098171826182</td>\n",
       "      <td>https://twitter.com/i/web/stuatus/139438309817...</td>\n",
       "    </tr>\n",
       "    <tr>\n",
       "      <th>4</th>\n",
       "      <td>Desde el Semillero 𝐃𝐢𝐠𝐧𝐢𝐝𝐚𝐝𝐞𝐬 𝐞𝐧 𝐭𝐞𝐧𝐬𝐢𝐨́𝐧 y en...</td>\n",
       "      <td>2021-05-17 20:02:18</td>\n",
       "      <td>Bogotá</td>\n",
       "      <td>Bogotá D.C.</td>\n",
       "      <td>1394382790897061890</td>\n",
       "      <td>https://twitter.com/i/web/stuatus/139438279089...</td>\n",
       "    </tr>\n",
       "  </tbody>\n",
       "</table>\n",
       "</div>"
      ],
      "text/plain": [
       "                                              tweets                date  \\\n",
       "0  Ya está disponible el podcast que grabé junto ... 2021-05-17 20:11:49   \n",
       "1  “Nos quitaron un ojo pero seguimos teniendo nu... 2021-05-17 20:05:00   \n",
       "2  #17May Convocatorias del denominado Comité de ... 2021-05-17 20:04:42   \n",
       "3  Una nueva agenda nacional: análisis del excomi... 2021-05-17 20:03:31   \n",
       "4  Desde el Semillero 𝐃𝐢𝐠𝐧𝐢𝐝𝐚𝐝𝐞𝐬 𝐞𝐧 𝐭𝐞𝐧𝐬𝐢𝐨́𝐧 y en... 2021-05-17 20:02:18   \n",
       "\n",
       "     city      user_location                   id  \\\n",
       "0  Bogotá  Bogotá, Colombia.  1394385185781731333   \n",
       "1  Bogotá   Bogotá, Colombia  1394383469938024450   \n",
       "2  Bogotá   Bogotá, Colombia  1394383397187989507   \n",
       "3  Bogotá             Bogotá  1394383098171826182   \n",
       "4  Bogotá        Bogotá D.C.  1394382790897061890   \n",
       "\n",
       "                                                link  \n",
       "0  https://twitter.com/i/web/stuatus/139438518578...  \n",
       "1  https://twitter.com/i/web/stuatus/139438346993...  \n",
       "2  https://twitter.com/i/web/stuatus/139438339718...  \n",
       "3  https://twitter.com/i/web/stuatus/139438309817...  \n",
       "4  https://twitter.com/i/web/stuatus/139438279089...  "
      ]
     },
     "execution_count": 30,
     "metadata": {},
     "output_type": "execute_result"
    }
   ],
   "source": [
    "t_processed = []\n",
    "\n",
    "for tweet in t: \n",
    "    temp = []\n",
    "    temp.append(tweet.full_text)\n",
    "    temp.append(tweet.created_at)\n",
    "    temp.append('Bogotá')\n",
    "    temp.append(tweet.user.location)\n",
    "    temp.append(tweet.id)\n",
    "    temp.append(f\"https://twitter.com/i/web/stuatus/{tweet.id}\")\n",
    "    \n",
    "    t_processed.append(temp)\n",
    "    \n",
    "    \n",
    "data = pd.DataFrame(t_processed)\n",
    "data.columns = ['tweets', 'date', 'city', 'user_location', 'id', 'link']\n",
    "data.head()\n"
   ]
  },
  {
   "cell_type": "code",
   "execution_count": 31,
   "id": "0b1492f2",
   "metadata": {},
   "outputs": [
    {
     "data": {
      "text/html": [
       "<div>\n",
       "<style scoped>\n",
       "    .dataframe tbody tr th:only-of-type {\n",
       "        vertical-align: middle;\n",
       "    }\n",
       "\n",
       "    .dataframe tbody tr th {\n",
       "        vertical-align: top;\n",
       "    }\n",
       "\n",
       "    .dataframe thead th {\n",
       "        text-align: right;\n",
       "    }\n",
       "</style>\n",
       "<table border=\"1\" class=\"dataframe\">\n",
       "  <thead>\n",
       "    <tr style=\"text-align: right;\">\n",
       "      <th></th>\n",
       "      <th>tweets</th>\n",
       "      <th>date</th>\n",
       "    </tr>\n",
       "  </thead>\n",
       "  <tbody>\n",
       "    <tr>\n",
       "      <th>0</th>\n",
       "      <td>Ya está disponible el podcast que grabé junto ...</td>\n",
       "      <td>2021-05-17 20:11:49</td>\n",
       "    </tr>\n",
       "    <tr>\n",
       "      <th>1</th>\n",
       "      <td>“Nos quitaron un ojo pero seguimos teniendo nu...</td>\n",
       "      <td>2021-05-17 20:05:00</td>\n",
       "    </tr>\n",
       "    <tr>\n",
       "      <th>2</th>\n",
       "      <td>#17May Convocatorias del denominado Comité de ...</td>\n",
       "      <td>2021-05-17 20:04:42</td>\n",
       "    </tr>\n",
       "    <tr>\n",
       "      <th>3</th>\n",
       "      <td>Una nueva agenda nacional: análisis del excomi...</td>\n",
       "      <td>2021-05-17 20:03:31</td>\n",
       "    </tr>\n",
       "    <tr>\n",
       "      <th>4</th>\n",
       "      <td>Desde el Semillero 𝐃𝐢𝐠𝐧𝐢𝐝𝐚𝐝𝐞𝐬 𝐞𝐧 𝐭𝐞𝐧𝐬𝐢𝐨́𝐧 y en...</td>\n",
       "      <td>2021-05-17 20:02:18</td>\n",
       "    </tr>\n",
       "  </tbody>\n",
       "</table>\n",
       "</div>"
      ],
      "text/plain": [
       "                                              tweets                date\n",
       "0  Ya está disponible el podcast que grabé junto ... 2021-05-17 20:11:49\n",
       "1  “Nos quitaron un ojo pero seguimos teniendo nu... 2021-05-17 20:05:00\n",
       "2  #17May Convocatorias del denominado Comité de ... 2021-05-17 20:04:42\n",
       "3  Una nueva agenda nacional: análisis del excomi... 2021-05-17 20:03:31\n",
       "4  Desde el Semillero 𝐃𝐢𝐠𝐧𝐢𝐝𝐚𝐝𝐞𝐬 𝐞𝐧 𝐭𝐞𝐧𝐬𝐢𝐨́𝐧 y en... 2021-05-17 20:02:18"
      ]
     },
     "execution_count": 31,
     "metadata": {},
     "output_type": "execute_result"
    }
   ],
   "source": [
    "data = data[['tweets', 'date']]\n",
    "data.head()"
   ]
  },
  {
   "cell_type": "code",
   "execution_count": 32,
   "id": "ef0e5357",
   "metadata": {},
   "outputs": [],
   "source": [
    "import re \n",
    "\n",
    "pattern1 = '?P<pic>pic.twitter.com/[^\\s]+'\n",
    "pattern2 = '?P<url>https?://[^\\s]+'"
   ]
  },
  {
   "cell_type": "code",
   "execution_count": 33,
   "id": "155e1ab3",
   "metadata": {},
   "outputs": [
    {
     "data": {
      "text/html": [
       "<div>\n",
       "<style scoped>\n",
       "    .dataframe tbody tr th:only-of-type {\n",
       "        vertical-align: middle;\n",
       "    }\n",
       "\n",
       "    .dataframe tbody tr th {\n",
       "        vertical-align: top;\n",
       "    }\n",
       "\n",
       "    .dataframe thead th {\n",
       "        text-align: right;\n",
       "    }\n",
       "</style>\n",
       "<table border=\"1\" class=\"dataframe\">\n",
       "  <thead>\n",
       "    <tr style=\"text-align: right;\">\n",
       "      <th></th>\n",
       "      <th>tweets</th>\n",
       "      <th>date</th>\n",
       "      <th>texto_limpio</th>\n",
       "      <th>links</th>\n",
       "      <th>hashtags</th>\n",
       "      <th>mentions</th>\n",
       "    </tr>\n",
       "  </thead>\n",
       "  <tbody>\n",
       "    <tr>\n",
       "      <th>0</th>\n",
       "      <td>Ya está disponible el podcast que grabé junto ...</td>\n",
       "      <td>2021-05-17 20:11:49</td>\n",
       "      <td>Ya está disponible el podcast que grabé junto ...</td>\n",
       "      <td>[https://t.co/wqt3ytFU8A]</td>\n",
       "      <td>[]</td>\n",
       "      <td>[@ArielAnaliza]</td>\n",
       "    </tr>\n",
       "    <tr>\n",
       "      <th>1</th>\n",
       "      <td>“Nos quitaron un ojo pero seguimos teniendo nu...</td>\n",
       "      <td>2021-05-17 20:05:00</td>\n",
       "      <td>“Nos quitaron un ojo pero seguimos teniendo nu...</td>\n",
       "      <td>[https://t.co/Dpi4YupRrp, https://t.co/QvBRkaq...</td>\n",
       "      <td>[]</td>\n",
       "      <td>[]</td>\n",
       "    </tr>\n",
       "    <tr>\n",
       "      <th>2</th>\n",
       "      <td>#17May Convocatorias del denominado Comité de ...</td>\n",
       "      <td>2021-05-17 20:04:42</td>\n",
       "      <td>Convocatorias del denominado Comité de Paro N...</td>\n",
       "      <td>[https://t.co/x0SXMsKdOd]</td>\n",
       "      <td>[#17May]</td>\n",
       "      <td>[]</td>\n",
       "    </tr>\n",
       "    <tr>\n",
       "      <th>3</th>\n",
       "      <td>Una nueva agenda nacional: análisis del excomi...</td>\n",
       "      <td>2021-05-17 20:03:31</td>\n",
       "      <td>Una nueva agenda nacional: análisis del excomi...</td>\n",
       "      <td>[https://t.co/BC1xBPNq2g]</td>\n",
       "      <td>[]</td>\n",
       "      <td>[]</td>\n",
       "    </tr>\n",
       "    <tr>\n",
       "      <th>4</th>\n",
       "      <td>Desde el Semillero 𝐃𝐢𝐠𝐧𝐢𝐝𝐚𝐝𝐞𝐬 𝐞𝐧 𝐭𝐞𝐧𝐬𝐢𝐨́𝐧 y en...</td>\n",
       "      <td>2021-05-17 20:02:18</td>\n",
       "      <td>Desde el Semillero 𝐃𝐢𝐠𝐧𝐢𝐝𝐚𝐝𝐞𝐬 𝐞𝐧 𝐭𝐞𝐧𝐬𝐢𝐨́𝐧 y en...</td>\n",
       "      <td>[https://t.co/Pb9kPeMJYV., https://t.co/vmMLS3...</td>\n",
       "      <td>[]</td>\n",
       "      <td>[]</td>\n",
       "    </tr>\n",
       "    <tr>\n",
       "      <th>...</th>\n",
       "      <td>...</td>\n",
       "      <td>...</td>\n",
       "      <td>...</td>\n",
       "      <td>...</td>\n",
       "      <td>...</td>\n",
       "      <td>...</td>\n",
       "    </tr>\n",
       "    <tr>\n",
       "      <th>95</th>\n",
       "      <td>Conozca todos los detalles sobre las marchas y...</td>\n",
       "      <td>2021-05-17 17:03:30</td>\n",
       "      <td>Conozca todos los detalles sobre las marchas y...</td>\n",
       "      <td>[https://t.co/Cj7oQt6jeE, https://t.co/HS9qqF5...</td>\n",
       "      <td>[]</td>\n",
       "      <td>[]</td>\n",
       "    </tr>\n",
       "    <tr>\n",
       "      <th>96</th>\n",
       "      <td>#NoticiasDeLaHora 918 policías han resultado h...</td>\n",
       "      <td>2021-05-17 17:01:38</td>\n",
       "      <td>918 policías han resultado heridos en los 18 ...</td>\n",
       "      <td>[https://t.co/LPPvT06WLI, https://t.co/kEglUMU...</td>\n",
       "      <td>[#NoticiasDeLaHora]</td>\n",
       "      <td>[]</td>\n",
       "    </tr>\n",
       "    <tr>\n",
       "      <th>97</th>\n",
       "      <td>¡EN VIVO!\\nLa @ComisiondePaz del @SenadoGovCo ...</td>\n",
       "      <td>2021-05-17 17:01:32</td>\n",
       "      <td>¡EN VIVO!\\nLa  del  está hoy en Pereira escuch...</td>\n",
       "      <td>[https://t.co/bc1eHb4Hef]</td>\n",
       "      <td>[]</td>\n",
       "      <td>[@ComisiondePaz, @SenadoGovCo]</td>\n",
       "    </tr>\n",
       "    <tr>\n",
       "      <th>98</th>\n",
       "      <td>#NoticiasDeLaHora Hoy nuevamente el Gobierno N...</td>\n",
       "      <td>2021-05-17 17:00:36</td>\n",
       "      <td>Hoy nuevamente el Gobierno Nacional y el Comi...</td>\n",
       "      <td>[https://t.co/LPPvT06WLI, https://t.co/cQxXcD7...</td>\n",
       "      <td>[#NoticiasDeLaHora]</td>\n",
       "      <td>[]</td>\n",
       "    </tr>\n",
       "    <tr>\n",
       "      <th>99</th>\n",
       "      <td>Comenzará el segundo encuentro entre el Gobier...</td>\n",
       "      <td>2021-05-17 16:59:55</td>\n",
       "      <td>Comenzará el segundo encuentro entre el Gobier...</td>\n",
       "      <td>[https://t.co/drH3kamhKN]</td>\n",
       "      <td>[#CityNoticiasFDS]</td>\n",
       "      <td>[]</td>\n",
       "    </tr>\n",
       "  </tbody>\n",
       "</table>\n",
       "<p>100 rows × 6 columns</p>\n",
       "</div>"
      ],
      "text/plain": [
       "                                               tweets                date  \\\n",
       "0   Ya está disponible el podcast que grabé junto ... 2021-05-17 20:11:49   \n",
       "1   “Nos quitaron un ojo pero seguimos teniendo nu... 2021-05-17 20:05:00   \n",
       "2   #17May Convocatorias del denominado Comité de ... 2021-05-17 20:04:42   \n",
       "3   Una nueva agenda nacional: análisis del excomi... 2021-05-17 20:03:31   \n",
       "4   Desde el Semillero 𝐃𝐢𝐠𝐧𝐢𝐝𝐚𝐝𝐞𝐬 𝐞𝐧 𝐭𝐞𝐧𝐬𝐢𝐨́𝐧 y en... 2021-05-17 20:02:18   \n",
       "..                                                ...                 ...   \n",
       "95  Conozca todos los detalles sobre las marchas y... 2021-05-17 17:03:30   \n",
       "96  #NoticiasDeLaHora 918 policías han resultado h... 2021-05-17 17:01:38   \n",
       "97  ¡EN VIVO!\\nLa @ComisiondePaz del @SenadoGovCo ... 2021-05-17 17:01:32   \n",
       "98  #NoticiasDeLaHora Hoy nuevamente el Gobierno N... 2021-05-17 17:00:36   \n",
       "99  Comenzará el segundo encuentro entre el Gobier... 2021-05-17 16:59:55   \n",
       "\n",
       "                                         texto_limpio  \\\n",
       "0   Ya está disponible el podcast que grabé junto ...   \n",
       "1   “Nos quitaron un ojo pero seguimos teniendo nu...   \n",
       "2    Convocatorias del denominado Comité de Paro N...   \n",
       "3   Una nueva agenda nacional: análisis del excomi...   \n",
       "4   Desde el Semillero 𝐃𝐢𝐠𝐧𝐢𝐝𝐚𝐝𝐞𝐬 𝐞𝐧 𝐭𝐞𝐧𝐬𝐢𝐨́𝐧 y en...   \n",
       "..                                                ...   \n",
       "95  Conozca todos los detalles sobre las marchas y...   \n",
       "96   918 policías han resultado heridos en los 18 ...   \n",
       "97  ¡EN VIVO!\\nLa  del  está hoy en Pereira escuch...   \n",
       "98   Hoy nuevamente el Gobierno Nacional y el Comi...   \n",
       "99  Comenzará el segundo encuentro entre el Gobier...   \n",
       "\n",
       "                                                links             hashtags  \\\n",
       "0                           [https://t.co/wqt3ytFU8A]                   []   \n",
       "1   [https://t.co/Dpi4YupRrp, https://t.co/QvBRkaq...                   []   \n",
       "2                           [https://t.co/x0SXMsKdOd]             [#17May]   \n",
       "3                           [https://t.co/BC1xBPNq2g]                   []   \n",
       "4   [https://t.co/Pb9kPeMJYV., https://t.co/vmMLS3...                   []   \n",
       "..                                                ...                  ...   \n",
       "95  [https://t.co/Cj7oQt6jeE, https://t.co/HS9qqF5...                   []   \n",
       "96  [https://t.co/LPPvT06WLI, https://t.co/kEglUMU...  [#NoticiasDeLaHora]   \n",
       "97                          [https://t.co/bc1eHb4Hef]                   []   \n",
       "98  [https://t.co/LPPvT06WLI, https://t.co/cQxXcD7...  [#NoticiasDeLaHora]   \n",
       "99                          [https://t.co/drH3kamhKN]   [#CityNoticiasFDS]   \n",
       "\n",
       "                          mentions  \n",
       "0                  [@ArielAnaliza]  \n",
       "1                               []  \n",
       "2                               []  \n",
       "3                               []  \n",
       "4                               []  \n",
       "..                             ...  \n",
       "95                              []  \n",
       "96                              []  \n",
       "97  [@ComisiondePaz, @SenadoGovCo]  \n",
       "98                              []  \n",
       "99                              []  \n",
       "\n",
       "[100 rows x 6 columns]"
      ]
     },
     "execution_count": 33,
     "metadata": {},
     "output_type": "execute_result"
    }
   ],
   "source": [
    "def text_clean(row):\n",
    "    text = row['tweets']\n",
    "    \n",
    "    links = [tuple(j for j in i if j)[-1] for i in re.findall(f\"({pattern1})|({pattern2})\",text)]\n",
    "    for link in links:\n",
    "        text = text.replace(link,\"\")\n",
    "    \n",
    "    hashtags = [interaction for interaction in text.split() if interaction.startswith(\"#\")]\n",
    "    for hashtag in hashtags:\n",
    "        text = text.replace(hashtag, \"\")\n",
    "        \n",
    "    mentions = [interaction for interaction in text.split() if interaction.startswith(\"@\")]\n",
    "    for mention in mentions:\n",
    "        text = text.replace(mention, \"\")\n",
    "        \n",
    "    return text, links, hashtags, mentions\n",
    "\n",
    "data[['texto_limpio', 'links', 'hashtags', 'mentions']] = data.apply(text_clean, axis=1, result_type='expand')\n",
    "data"
   ]
  },
  {
   "cell_type": "code",
   "execution_count": 34,
   "id": "5b1b6f36",
   "metadata": {},
   "outputs": [
    {
     "data": {
      "text/html": [
       "<div>\n",
       "<style scoped>\n",
       "    .dataframe tbody tr th:only-of-type {\n",
       "        vertical-align: middle;\n",
       "    }\n",
       "\n",
       "    .dataframe tbody tr th {\n",
       "        vertical-align: top;\n",
       "    }\n",
       "\n",
       "    .dataframe thead th {\n",
       "        text-align: right;\n",
       "    }\n",
       "</style>\n",
       "<table border=\"1\" class=\"dataframe\">\n",
       "  <thead>\n",
       "    <tr style=\"text-align: right;\">\n",
       "      <th></th>\n",
       "      <th>tweets</th>\n",
       "      <th>date</th>\n",
       "      <th>texto_limpio</th>\n",
       "      <th>links</th>\n",
       "      <th>hashtags</th>\n",
       "      <th>mentions</th>\n",
       "      <th>emojis</th>\n",
       "    </tr>\n",
       "  </thead>\n",
       "  <tbody>\n",
       "    <tr>\n",
       "      <th>0</th>\n",
       "      <td>Ya está disponible el podcast que grabé junto ...</td>\n",
       "      <td>2021-05-17 20:11:49</td>\n",
       "      <td>Ya está disponible el podcast que grabé junto ...</td>\n",
       "      <td>[https://t.co/wqt3ytFU8A]</td>\n",
       "      <td>[]</td>\n",
       "      <td>[@ArielAnaliza]</td>\n",
       "      <td>[]</td>\n",
       "    </tr>\n",
       "    <tr>\n",
       "      <th>1</th>\n",
       "      <td>“Nos quitaron un ojo pero seguimos teniendo nu...</td>\n",
       "      <td>2021-05-17 20:05:00</td>\n",
       "      <td>“Nos quitaron un ojo pero seguimos teniendo nu...</td>\n",
       "      <td>[https://t.co/Dpi4YupRrp, https://t.co/QvBRkaq...</td>\n",
       "      <td>[]</td>\n",
       "      <td>[]</td>\n",
       "      <td>[]</td>\n",
       "    </tr>\n",
       "    <tr>\n",
       "      <th>2</th>\n",
       "      <td>#17May Convocatorias del denominado Comité de ...</td>\n",
       "      <td>2021-05-17 20:04:42</td>\n",
       "      <td>Convocatorias del denominado Comité de Paro N...</td>\n",
       "      <td>[https://t.co/x0SXMsKdOd]</td>\n",
       "      <td>[#17May]</td>\n",
       "      <td>[]</td>\n",
       "      <td>[]</td>\n",
       "    </tr>\n",
       "    <tr>\n",
       "      <th>3</th>\n",
       "      <td>Una nueva agenda nacional: análisis del excomi...</td>\n",
       "      <td>2021-05-17 20:03:31</td>\n",
       "      <td>Una nueva agenda nacional: análisis del excomi...</td>\n",
       "      <td>[https://t.co/BC1xBPNq2g]</td>\n",
       "      <td>[]</td>\n",
       "      <td>[]</td>\n",
       "      <td>[]</td>\n",
       "    </tr>\n",
       "    <tr>\n",
       "      <th>4</th>\n",
       "      <td>Desde el Semillero 𝐃𝐢𝐠𝐧𝐢𝐝𝐚𝐝𝐞𝐬 𝐞𝐧 𝐭𝐞𝐧𝐬𝐢𝐨́𝐧 y en...</td>\n",
       "      <td>2021-05-17 20:02:18</td>\n",
       "      <td>Desde el Semillero 𝐃𝐢𝐠𝐧𝐢𝐝𝐚𝐝𝐞𝐬 𝐞𝐧 𝐭𝐞𝐧𝐬𝐢𝐨́𝐧 y en...</td>\n",
       "      <td>[https://t.co/Pb9kPeMJYV., https://t.co/vmMLS3...</td>\n",
       "      <td>[]</td>\n",
       "      <td>[]</td>\n",
       "      <td>[]</td>\n",
       "    </tr>\n",
       "  </tbody>\n",
       "</table>\n",
       "</div>"
      ],
      "text/plain": [
       "                                              tweets                date  \\\n",
       "0  Ya está disponible el podcast que grabé junto ... 2021-05-17 20:11:49   \n",
       "1  “Nos quitaron un ojo pero seguimos teniendo nu... 2021-05-17 20:05:00   \n",
       "2  #17May Convocatorias del denominado Comité de ... 2021-05-17 20:04:42   \n",
       "3  Una nueva agenda nacional: análisis del excomi... 2021-05-17 20:03:31   \n",
       "4  Desde el Semillero 𝐃𝐢𝐠𝐧𝐢𝐝𝐚𝐝𝐞𝐬 𝐞𝐧 𝐭𝐞𝐧𝐬𝐢𝐨́𝐧 y en... 2021-05-17 20:02:18   \n",
       "\n",
       "                                        texto_limpio  \\\n",
       "0  Ya está disponible el podcast que grabé junto ...   \n",
       "1  “Nos quitaron un ojo pero seguimos teniendo nu...   \n",
       "2   Convocatorias del denominado Comité de Paro N...   \n",
       "3  Una nueva agenda nacional: análisis del excomi...   \n",
       "4  Desde el Semillero 𝐃𝐢𝐠𝐧𝐢𝐝𝐚𝐝𝐞𝐬 𝐞𝐧 𝐭𝐞𝐧𝐬𝐢𝐨́𝐧 y en...   \n",
       "\n",
       "                                               links  hashtags  \\\n",
       "0                          [https://t.co/wqt3ytFU8A]        []   \n",
       "1  [https://t.co/Dpi4YupRrp, https://t.co/QvBRkaq...        []   \n",
       "2                          [https://t.co/x0SXMsKdOd]  [#17May]   \n",
       "3                          [https://t.co/BC1xBPNq2g]        []   \n",
       "4  [https://t.co/Pb9kPeMJYV., https://t.co/vmMLS3...        []   \n",
       "\n",
       "          mentions emojis  \n",
       "0  [@ArielAnaliza]     []  \n",
       "1               []     []  \n",
       "2               []     []  \n",
       "3               []     []  \n",
       "4               []     []  "
      ]
     },
     "execution_count": 34,
     "metadata": {},
     "output_type": "execute_result"
    }
   ],
   "source": [
    "import regex\n",
    "import emoji\n",
    "\n",
    "def get_emojis(text):\n",
    "    emoji_list = []\n",
    "    data = regex.findall(r'\\X', text)\n",
    "    for word in data:\n",
    "        if any(char in emoji.UNICODE_EMOJI['en'] for char in word):\n",
    "            emoji_list.append(word)\n",
    "\n",
    "    return emoji_list\n",
    "  \n",
    "  \n",
    "\n",
    "data['emojis'] = data['texto_limpio'].apply(lambda text: get_emojis(text))\n",
    "data.head()"
   ]
  },
  {
   "cell_type": "code",
   "execution_count": 35,
   "id": "0133228a",
   "metadata": {},
   "outputs": [
    {
     "data": {
      "text/html": [
       "<div>\n",
       "<style scoped>\n",
       "    .dataframe tbody tr th:only-of-type {\n",
       "        vertical-align: middle;\n",
       "    }\n",
       "\n",
       "    .dataframe tbody tr th {\n",
       "        vertical-align: top;\n",
       "    }\n",
       "\n",
       "    .dataframe thead th {\n",
       "        text-align: right;\n",
       "    }\n",
       "</style>\n",
       "<table border=\"1\" class=\"dataframe\">\n",
       "  <thead>\n",
       "    <tr style=\"text-align: right;\">\n",
       "      <th></th>\n",
       "      <th>hora</th>\n",
       "      <th>cnt</th>\n",
       "    </tr>\n",
       "  </thead>\n",
       "  <tbody>\n",
       "    <tr>\n",
       "      <th>58</th>\n",
       "      <td>16:59:00</td>\n",
       "      <td>1</td>\n",
       "    </tr>\n",
       "    <tr>\n",
       "      <th>67</th>\n",
       "      <td>17:00:00</td>\n",
       "      <td>1</td>\n",
       "    </tr>\n",
       "    <tr>\n",
       "      <th>6</th>\n",
       "      <td>17:01:00</td>\n",
       "      <td>2</td>\n",
       "    </tr>\n",
       "    <tr>\n",
       "      <th>44</th>\n",
       "      <td>17:03:00</td>\n",
       "      <td>1</td>\n",
       "    </tr>\n",
       "    <tr>\n",
       "      <th>42</th>\n",
       "      <td>17:05:00</td>\n",
       "      <td>1</td>\n",
       "    </tr>\n",
       "    <tr>\n",
       "      <th>...</th>\n",
       "      <td>...</td>\n",
       "      <td>...</td>\n",
       "    </tr>\n",
       "    <tr>\n",
       "      <th>71</th>\n",
       "      <td>20:02:00</td>\n",
       "      <td>1</td>\n",
       "    </tr>\n",
       "    <tr>\n",
       "      <th>60</th>\n",
       "      <td>20:03:00</td>\n",
       "      <td>1</td>\n",
       "    </tr>\n",
       "    <tr>\n",
       "      <th>66</th>\n",
       "      <td>20:04:00</td>\n",
       "      <td>1</td>\n",
       "    </tr>\n",
       "    <tr>\n",
       "      <th>70</th>\n",
       "      <td>20:05:00</td>\n",
       "      <td>1</td>\n",
       "    </tr>\n",
       "    <tr>\n",
       "      <th>53</th>\n",
       "      <td>20:11:00</td>\n",
       "      <td>1</td>\n",
       "    </tr>\n",
       "  </tbody>\n",
       "</table>\n",
       "<p>80 rows × 2 columns</p>\n",
       "</div>"
      ],
      "text/plain": [
       "        hora  cnt\n",
       "58  16:59:00    1\n",
       "67  17:00:00    1\n",
       "6   17:01:00    2\n",
       "44  17:03:00    1\n",
       "42  17:05:00    1\n",
       "..       ...  ...\n",
       "71  20:02:00    1\n",
       "60  20:03:00    1\n",
       "66  20:04:00    1\n",
       "70  20:05:00    1\n",
       "53  20:11:00    1\n",
       "\n",
       "[80 rows x 2 columns]"
      ]
     },
     "execution_count": 35,
     "metadata": {},
     "output_type": "execute_result"
    }
   ],
   "source": [
    "data['hora'] = data['date'].dt.floor('T').dt.time\n",
    "temp = pd.DataFrame(data.hora.value_counts()).reset_index()\n",
    "temp.columns = ['hora', 'cnt']\n",
    "temp = temp.sort_values('hora')\n",
    "temp\n"
   ]
  },
  {
   "cell_type": "code",
   "execution_count": 36,
   "id": "5feff328",
   "metadata": {},
   "outputs": [],
   "source": [
    "import plotly.io as pio\n",
    "import plotly.express as px\n",
    "import plotly.graph_objs as go\n",
    "from plotly.offline import download_plotlyjs, init_notebook_mode, plot, iplot"
   ]
  },
  {
   "cell_type": "code",
   "execution_count": 37,
   "id": "d6f355b3",
   "metadata": {},
   "outputs": [
    {
     "data": {
      "text/html": [
       "        <script type=\"text/javascript\">\n",
       "        window.PlotlyConfig = {MathJaxConfig: 'local'};\n",
       "        if (window.MathJax) {MathJax.Hub.Config({SVG: {font: \"STIX-Web\"}});}\n",
       "        if (typeof require !== 'undefined') {\n",
       "        require.undef(\"plotly\");\n",
       "        requirejs.config({\n",
       "            paths: {\n",
       "                'plotly': ['https://cdn.plot.ly/plotly-latest.min']\n",
       "            }\n",
       "        });\n",
       "        require(['plotly'], function(Plotly) {\n",
       "            window._Plotly = Plotly;\n",
       "        });\n",
       "        }\n",
       "        </script>\n",
       "        "
      ]
     },
     "metadata": {},
     "output_type": "display_data"
    }
   ],
   "source": [
    "import matplotlib.pyplot as plt\n",
    "%matplotlib inline\n",
    "init_notebook_mode(connected=True)"
   ]
  },
  {
   "cell_type": "code",
   "execution_count": 40,
   "id": "73ff3388",
   "metadata": {},
   "outputs": [
    {
     "data": {
      "application/vnd.plotly.v1+json": {
       "config": {
        "linkText": "Export to plot.ly",
        "plotlyServerURL": "https://plot.ly",
        "showLink": false
       },
       "data": [
        {
         "hoverinfo": "text",
         "line": {
          "color": "purple"
         },
         "mode": "lines+markers",
         "name": "Horas",
         "text": [
          "Fecha: 16:59:00<br>Tuits: 1",
          "Fecha: 17:00:00<br>Tuits: 1",
          "Fecha: 17:01:00<br>Tuits: 2",
          "Fecha: 17:03:00<br>Tuits: 1",
          "Fecha: 17:05:00<br>Tuits: 1",
          "Fecha: 17:06:00<br>Tuits: 1",
          "Fecha: 17:08:00<br>Tuits: 1",
          "Fecha: 17:10:00<br>Tuits: 1",
          "Fecha: 17:11:00<br>Tuits: 3",
          "Fecha: 17:15:00<br>Tuits: 1",
          "Fecha: 17:17:00<br>Tuits: 2",
          "Fecha: 17:18:00<br>Tuits: 1",
          "Fecha: 17:19:00<br>Tuits: 1",
          "Fecha: 17:20:00<br>Tuits: 1",
          "Fecha: 17:22:00<br>Tuits: 1",
          "Fecha: 17:23:00<br>Tuits: 1",
          "Fecha: 17:29:00<br>Tuits: 1",
          "Fecha: 17:31:00<br>Tuits: 1",
          "Fecha: 17:34:00<br>Tuits: 2",
          "Fecha: 17:35:00<br>Tuits: 1",
          "Fecha: 17:37:00<br>Tuits: 2",
          "Fecha: 17:38:00<br>Tuits: 1",
          "Fecha: 17:39:00<br>Tuits: 1",
          "Fecha: 17:40:00<br>Tuits: 1",
          "Fecha: 17:45:00<br>Tuits: 2",
          "Fecha: 17:46:00<br>Tuits: 1",
          "Fecha: 17:47:00<br>Tuits: 1",
          "Fecha: 17:58:00<br>Tuits: 2",
          "Fecha: 18:01:00<br>Tuits: 1",
          "Fecha: 18:02:00<br>Tuits: 1",
          "Fecha: 18:04:00<br>Tuits: 1",
          "Fecha: 18:05:00<br>Tuits: 2",
          "Fecha: 18:08:00<br>Tuits: 1",
          "Fecha: 18:09:00<br>Tuits: 2",
          "Fecha: 18:13:00<br>Tuits: 1",
          "Fecha: 18:15:00<br>Tuits: 1",
          "Fecha: 18:16:00<br>Tuits: 1",
          "Fecha: 18:18:00<br>Tuits: 2",
          "Fecha: 18:19:00<br>Tuits: 1",
          "Fecha: 18:20:00<br>Tuits: 1",
          "Fecha: 18:25:00<br>Tuits: 2",
          "Fecha: 18:29:00<br>Tuits: 1",
          "Fecha: 18:30:00<br>Tuits: 1",
          "Fecha: 18:32:00<br>Tuits: 1",
          "Fecha: 18:34:00<br>Tuits: 1",
          "Fecha: 18:35:00<br>Tuits: 1",
          "Fecha: 18:36:00<br>Tuits: 1",
          "Fecha: 18:38:00<br>Tuits: 2",
          "Fecha: 18:41:00<br>Tuits: 1",
          "Fecha: 18:43:00<br>Tuits: 2",
          "Fecha: 18:45:00<br>Tuits: 2",
          "Fecha: 18:50:00<br>Tuits: 2",
          "Fecha: 18:52:00<br>Tuits: 1",
          "Fecha: 18:55:00<br>Tuits: 1",
          "Fecha: 18:58:00<br>Tuits: 1",
          "Fecha: 19:01:00<br>Tuits: 1",
          "Fecha: 19:02:00<br>Tuits: 2",
          "Fecha: 19:08:00<br>Tuits: 1",
          "Fecha: 19:09:00<br>Tuits: 2",
          "Fecha: 19:15:00<br>Tuits: 1",
          "Fecha: 19:18:00<br>Tuits: 1",
          "Fecha: 19:27:00<br>Tuits: 1",
          "Fecha: 19:28:00<br>Tuits: 1",
          "Fecha: 19:33:00<br>Tuits: 1",
          "Fecha: 19:39:00<br>Tuits: 1",
          "Fecha: 19:42:00<br>Tuits: 1",
          "Fecha: 19:43:00<br>Tuits: 1",
          "Fecha: 19:46:00<br>Tuits: 2",
          "Fecha: 19:51:00<br>Tuits: 1",
          "Fecha: 19:52:00<br>Tuits: 2",
          "Fecha: 19:53:00<br>Tuits: 1",
          "Fecha: 19:54:00<br>Tuits: 1",
          "Fecha: 19:56:00<br>Tuits: 1",
          "Fecha: 19:57:00<br>Tuits: 1",
          "Fecha: 20:00:00<br>Tuits: 1",
          "Fecha: 20:02:00<br>Tuits: 1",
          "Fecha: 20:03:00<br>Tuits: 1",
          "Fecha: 20:04:00<br>Tuits: 1",
          "Fecha: 20:05:00<br>Tuits: 1",
          "Fecha: 20:11:00<br>Tuits: 1"
         ],
         "type": "scatter",
         "x": [
          "16:59:00",
          "17:00:00",
          "17:01:00",
          "17:03:00",
          "17:05:00",
          "17:06:00",
          "17:08:00",
          "17:10:00",
          "17:11:00",
          "17:15:00",
          "17:17:00",
          "17:18:00",
          "17:19:00",
          "17:20:00",
          "17:22:00",
          "17:23:00",
          "17:29:00",
          "17:31:00",
          "17:34:00",
          "17:35:00",
          "17:37:00",
          "17:38:00",
          "17:39:00",
          "17:40:00",
          "17:45:00",
          "17:46:00",
          "17:47:00",
          "17:58:00",
          "18:01:00",
          "18:02:00",
          "18:04:00",
          "18:05:00",
          "18:08:00",
          "18:09:00",
          "18:13:00",
          "18:15:00",
          "18:16:00",
          "18:18:00",
          "18:19:00",
          "18:20:00",
          "18:25:00",
          "18:29:00",
          "18:30:00",
          "18:32:00",
          "18:34:00",
          "18:35:00",
          "18:36:00",
          "18:38:00",
          "18:41:00",
          "18:43:00",
          "18:45:00",
          "18:50:00",
          "18:52:00",
          "18:55:00",
          "18:58:00",
          "19:01:00",
          "19:02:00",
          "19:08:00",
          "19:09:00",
          "19:15:00",
          "19:18:00",
          "19:27:00",
          "19:28:00",
          "19:33:00",
          "19:39:00",
          "19:42:00",
          "19:43:00",
          "19:46:00",
          "19:51:00",
          "19:52:00",
          "19:53:00",
          "19:54:00",
          "19:56:00",
          "19:57:00",
          "20:00:00",
          "20:02:00",
          "20:03:00",
          "20:04:00",
          "20:05:00",
          "20:11:00"
         ],
         "y": [
          1,
          1,
          2,
          1,
          1,
          1,
          1,
          1,
          3,
          1,
          2,
          1,
          1,
          1,
          1,
          1,
          1,
          1,
          2,
          1,
          2,
          1,
          1,
          1,
          2,
          1,
          1,
          2,
          1,
          1,
          1,
          2,
          1,
          2,
          1,
          1,
          1,
          2,
          1,
          1,
          2,
          1,
          1,
          1,
          1,
          1,
          1,
          2,
          1,
          2,
          2,
          2,
          1,
          1,
          1,
          1,
          2,
          1,
          2,
          1,
          1,
          1,
          1,
          1,
          1,
          1,
          1,
          2,
          1,
          2,
          1,
          1,
          1,
          1,
          1,
          1,
          1,
          1,
          1,
          1
         ]
        }
       ],
       "layout": {
        "template": {
         "data": {
          "bar": [
           {
            "error_x": {
             "color": "#2a3f5f"
            },
            "error_y": {
             "color": "#2a3f5f"
            },
            "marker": {
             "line": {
              "color": "#E5ECF6",
              "width": 0.5
             }
            },
            "type": "bar"
           }
          ],
          "barpolar": [
           {
            "marker": {
             "line": {
              "color": "#E5ECF6",
              "width": 0.5
             }
            },
            "type": "barpolar"
           }
          ],
          "carpet": [
           {
            "aaxis": {
             "endlinecolor": "#2a3f5f",
             "gridcolor": "white",
             "linecolor": "white",
             "minorgridcolor": "white",
             "startlinecolor": "#2a3f5f"
            },
            "baxis": {
             "endlinecolor": "#2a3f5f",
             "gridcolor": "white",
             "linecolor": "white",
             "minorgridcolor": "white",
             "startlinecolor": "#2a3f5f"
            },
            "type": "carpet"
           }
          ],
          "choropleth": [
           {
            "colorbar": {
             "outlinewidth": 0,
             "ticks": ""
            },
            "type": "choropleth"
           }
          ],
          "contour": [
           {
            "colorbar": {
             "outlinewidth": 0,
             "ticks": ""
            },
            "colorscale": [
             [
              0,
              "#0d0887"
             ],
             [
              0.1111111111111111,
              "#46039f"
             ],
             [
              0.2222222222222222,
              "#7201a8"
             ],
             [
              0.3333333333333333,
              "#9c179e"
             ],
             [
              0.4444444444444444,
              "#bd3786"
             ],
             [
              0.5555555555555556,
              "#d8576b"
             ],
             [
              0.6666666666666666,
              "#ed7953"
             ],
             [
              0.7777777777777778,
              "#fb9f3a"
             ],
             [
              0.8888888888888888,
              "#fdca26"
             ],
             [
              1,
              "#f0f921"
             ]
            ],
            "type": "contour"
           }
          ],
          "contourcarpet": [
           {
            "colorbar": {
             "outlinewidth": 0,
             "ticks": ""
            },
            "type": "contourcarpet"
           }
          ],
          "heatmap": [
           {
            "colorbar": {
             "outlinewidth": 0,
             "ticks": ""
            },
            "colorscale": [
             [
              0,
              "#0d0887"
             ],
             [
              0.1111111111111111,
              "#46039f"
             ],
             [
              0.2222222222222222,
              "#7201a8"
             ],
             [
              0.3333333333333333,
              "#9c179e"
             ],
             [
              0.4444444444444444,
              "#bd3786"
             ],
             [
              0.5555555555555556,
              "#d8576b"
             ],
             [
              0.6666666666666666,
              "#ed7953"
             ],
             [
              0.7777777777777778,
              "#fb9f3a"
             ],
             [
              0.8888888888888888,
              "#fdca26"
             ],
             [
              1,
              "#f0f921"
             ]
            ],
            "type": "heatmap"
           }
          ],
          "heatmapgl": [
           {
            "colorbar": {
             "outlinewidth": 0,
             "ticks": ""
            },
            "colorscale": [
             [
              0,
              "#0d0887"
             ],
             [
              0.1111111111111111,
              "#46039f"
             ],
             [
              0.2222222222222222,
              "#7201a8"
             ],
             [
              0.3333333333333333,
              "#9c179e"
             ],
             [
              0.4444444444444444,
              "#bd3786"
             ],
             [
              0.5555555555555556,
              "#d8576b"
             ],
             [
              0.6666666666666666,
              "#ed7953"
             ],
             [
              0.7777777777777778,
              "#fb9f3a"
             ],
             [
              0.8888888888888888,
              "#fdca26"
             ],
             [
              1,
              "#f0f921"
             ]
            ],
            "type": "heatmapgl"
           }
          ],
          "histogram": [
           {
            "marker": {
             "colorbar": {
              "outlinewidth": 0,
              "ticks": ""
             }
            },
            "type": "histogram"
           }
          ],
          "histogram2d": [
           {
            "colorbar": {
             "outlinewidth": 0,
             "ticks": ""
            },
            "colorscale": [
             [
              0,
              "#0d0887"
             ],
             [
              0.1111111111111111,
              "#46039f"
             ],
             [
              0.2222222222222222,
              "#7201a8"
             ],
             [
              0.3333333333333333,
              "#9c179e"
             ],
             [
              0.4444444444444444,
              "#bd3786"
             ],
             [
              0.5555555555555556,
              "#d8576b"
             ],
             [
              0.6666666666666666,
              "#ed7953"
             ],
             [
              0.7777777777777778,
              "#fb9f3a"
             ],
             [
              0.8888888888888888,
              "#fdca26"
             ],
             [
              1,
              "#f0f921"
             ]
            ],
            "type": "histogram2d"
           }
          ],
          "histogram2dcontour": [
           {
            "colorbar": {
             "outlinewidth": 0,
             "ticks": ""
            },
            "colorscale": [
             [
              0,
              "#0d0887"
             ],
             [
              0.1111111111111111,
              "#46039f"
             ],
             [
              0.2222222222222222,
              "#7201a8"
             ],
             [
              0.3333333333333333,
              "#9c179e"
             ],
             [
              0.4444444444444444,
              "#bd3786"
             ],
             [
              0.5555555555555556,
              "#d8576b"
             ],
             [
              0.6666666666666666,
              "#ed7953"
             ],
             [
              0.7777777777777778,
              "#fb9f3a"
             ],
             [
              0.8888888888888888,
              "#fdca26"
             ],
             [
              1,
              "#f0f921"
             ]
            ],
            "type": "histogram2dcontour"
           }
          ],
          "mesh3d": [
           {
            "colorbar": {
             "outlinewidth": 0,
             "ticks": ""
            },
            "type": "mesh3d"
           }
          ],
          "parcoords": [
           {
            "line": {
             "colorbar": {
              "outlinewidth": 0,
              "ticks": ""
             }
            },
            "type": "parcoords"
           }
          ],
          "pie": [
           {
            "automargin": true,
            "type": "pie"
           }
          ],
          "scatter": [
           {
            "marker": {
             "colorbar": {
              "outlinewidth": 0,
              "ticks": ""
             }
            },
            "type": "scatter"
           }
          ],
          "scatter3d": [
           {
            "line": {
             "colorbar": {
              "outlinewidth": 0,
              "ticks": ""
             }
            },
            "marker": {
             "colorbar": {
              "outlinewidth": 0,
              "ticks": ""
             }
            },
            "type": "scatter3d"
           }
          ],
          "scattercarpet": [
           {
            "marker": {
             "colorbar": {
              "outlinewidth": 0,
              "ticks": ""
             }
            },
            "type": "scattercarpet"
           }
          ],
          "scattergeo": [
           {
            "marker": {
             "colorbar": {
              "outlinewidth": 0,
              "ticks": ""
             }
            },
            "type": "scattergeo"
           }
          ],
          "scattergl": [
           {
            "marker": {
             "colorbar": {
              "outlinewidth": 0,
              "ticks": ""
             }
            },
            "type": "scattergl"
           }
          ],
          "scattermapbox": [
           {
            "marker": {
             "colorbar": {
              "outlinewidth": 0,
              "ticks": ""
             }
            },
            "type": "scattermapbox"
           }
          ],
          "scatterpolar": [
           {
            "marker": {
             "colorbar": {
              "outlinewidth": 0,
              "ticks": ""
             }
            },
            "type": "scatterpolar"
           }
          ],
          "scatterpolargl": [
           {
            "marker": {
             "colorbar": {
              "outlinewidth": 0,
              "ticks": ""
             }
            },
            "type": "scatterpolargl"
           }
          ],
          "scatterternary": [
           {
            "marker": {
             "colorbar": {
              "outlinewidth": 0,
              "ticks": ""
             }
            },
            "type": "scatterternary"
           }
          ],
          "surface": [
           {
            "colorbar": {
             "outlinewidth": 0,
             "ticks": ""
            },
            "colorscale": [
             [
              0,
              "#0d0887"
             ],
             [
              0.1111111111111111,
              "#46039f"
             ],
             [
              0.2222222222222222,
              "#7201a8"
             ],
             [
              0.3333333333333333,
              "#9c179e"
             ],
             [
              0.4444444444444444,
              "#bd3786"
             ],
             [
              0.5555555555555556,
              "#d8576b"
             ],
             [
              0.6666666666666666,
              "#ed7953"
             ],
             [
              0.7777777777777778,
              "#fb9f3a"
             ],
             [
              0.8888888888888888,
              "#fdca26"
             ],
             [
              1,
              "#f0f921"
             ]
            ],
            "type": "surface"
           }
          ],
          "table": [
           {
            "cells": {
             "fill": {
              "color": "#EBF0F8"
             },
             "line": {
              "color": "white"
             }
            },
            "header": {
             "fill": {
              "color": "#C8D4E3"
             },
             "line": {
              "color": "white"
             }
            },
            "type": "table"
           }
          ]
         },
         "layout": {
          "annotationdefaults": {
           "arrowcolor": "#2a3f5f",
           "arrowhead": 0,
           "arrowwidth": 1
          },
          "autotypenumbers": "strict",
          "coloraxis": {
           "colorbar": {
            "outlinewidth": 0,
            "ticks": ""
           }
          },
          "colorscale": {
           "diverging": [
            [
             0,
             "#8e0152"
            ],
            [
             0.1,
             "#c51b7d"
            ],
            [
             0.2,
             "#de77ae"
            ],
            [
             0.3,
             "#f1b6da"
            ],
            [
             0.4,
             "#fde0ef"
            ],
            [
             0.5,
             "#f7f7f7"
            ],
            [
             0.6,
             "#e6f5d0"
            ],
            [
             0.7,
             "#b8e186"
            ],
            [
             0.8,
             "#7fbc41"
            ],
            [
             0.9,
             "#4d9221"
            ],
            [
             1,
             "#276419"
            ]
           ],
           "sequential": [
            [
             0,
             "#0d0887"
            ],
            [
             0.1111111111111111,
             "#46039f"
            ],
            [
             0.2222222222222222,
             "#7201a8"
            ],
            [
             0.3333333333333333,
             "#9c179e"
            ],
            [
             0.4444444444444444,
             "#bd3786"
            ],
            [
             0.5555555555555556,
             "#d8576b"
            ],
            [
             0.6666666666666666,
             "#ed7953"
            ],
            [
             0.7777777777777778,
             "#fb9f3a"
            ],
            [
             0.8888888888888888,
             "#fdca26"
            ],
            [
             1,
             "#f0f921"
            ]
           ],
           "sequentialminus": [
            [
             0,
             "#0d0887"
            ],
            [
             0.1111111111111111,
             "#46039f"
            ],
            [
             0.2222222222222222,
             "#7201a8"
            ],
            [
             0.3333333333333333,
             "#9c179e"
            ],
            [
             0.4444444444444444,
             "#bd3786"
            ],
            [
             0.5555555555555556,
             "#d8576b"
            ],
            [
             0.6666666666666666,
             "#ed7953"
            ],
            [
             0.7777777777777778,
             "#fb9f3a"
            ],
            [
             0.8888888888888888,
             "#fdca26"
            ],
            [
             1,
             "#f0f921"
            ]
           ]
          },
          "colorway": [
           "#636efa",
           "#EF553B",
           "#00cc96",
           "#ab63fa",
           "#FFA15A",
           "#19d3f3",
           "#FF6692",
           "#B6E880",
           "#FF97FF",
           "#FECB52"
          ],
          "font": {
           "color": "#2a3f5f"
          },
          "geo": {
           "bgcolor": "white",
           "lakecolor": "white",
           "landcolor": "#E5ECF6",
           "showlakes": true,
           "showland": true,
           "subunitcolor": "white"
          },
          "hoverlabel": {
           "align": "left"
          },
          "hovermode": "closest",
          "mapbox": {
           "style": "light"
          },
          "paper_bgcolor": "white",
          "plot_bgcolor": "#E5ECF6",
          "polar": {
           "angularaxis": {
            "gridcolor": "white",
            "linecolor": "white",
            "ticks": ""
           },
           "bgcolor": "#E5ECF6",
           "radialaxis": {
            "gridcolor": "white",
            "linecolor": "white",
            "ticks": ""
           }
          },
          "scene": {
           "xaxis": {
            "backgroundcolor": "#E5ECF6",
            "gridcolor": "white",
            "gridwidth": 2,
            "linecolor": "white",
            "showbackground": true,
            "ticks": "",
            "zerolinecolor": "white"
           },
           "yaxis": {
            "backgroundcolor": "#E5ECF6",
            "gridcolor": "white",
            "gridwidth": 2,
            "linecolor": "white",
            "showbackground": true,
            "ticks": "",
            "zerolinecolor": "white"
           },
           "zaxis": {
            "backgroundcolor": "#E5ECF6",
            "gridcolor": "white",
            "gridwidth": 2,
            "linecolor": "white",
            "showbackground": true,
            "ticks": "",
            "zerolinecolor": "white"
           }
          },
          "shapedefaults": {
           "line": {
            "color": "#2a3f5f"
           }
          },
          "ternary": {
           "aaxis": {
            "gridcolor": "white",
            "linecolor": "white",
            "ticks": ""
           },
           "baxis": {
            "gridcolor": "white",
            "linecolor": "white",
            "ticks": ""
           },
           "bgcolor": "#E5ECF6",
           "caxis": {
            "gridcolor": "white",
            "linecolor": "white",
            "ticks": ""
           }
          },
          "title": {
           "x": 0.05
          },
          "xaxis": {
           "automargin": true,
           "gridcolor": "white",
           "linecolor": "white",
           "ticks": "",
           "title": {
            "standoff": 15
           },
           "zerolinecolor": "white",
           "zerolinewidth": 2
          },
          "yaxis": {
           "automargin": true,
           "gridcolor": "white",
           "linecolor": "white",
           "ticks": "",
           "title": {
            "standoff": 15
           },
           "zerolinecolor": "white",
           "zerolinewidth": 2
          }
         }
        },
        "title": {
         "text": "Número de tuits por hora"
        }
       }
      },
      "text/html": [
       "<div>                            <div id=\"576fa2b3-9725-4feb-a674-ec5874c3da13\" class=\"plotly-graph-div\" style=\"height:525px; width:100%;\"></div>            <script type=\"text/javascript\">                require([\"plotly\"], function(Plotly) {                    window.PLOTLYENV=window.PLOTLYENV || {};                                    if (document.getElementById(\"576fa2b3-9725-4feb-a674-ec5874c3da13\")) {                    Plotly.newPlot(                        \"576fa2b3-9725-4feb-a674-ec5874c3da13\",                        [{\"hoverinfo\": \"text\", \"line\": {\"color\": \"purple\"}, \"mode\": \"lines+markers\", \"name\": \"Horas\", \"text\": [\"Fecha: 16:59:00<br>Tuits: 1\", \"Fecha: 17:00:00<br>Tuits: 1\", \"Fecha: 17:01:00<br>Tuits: 2\", \"Fecha: 17:03:00<br>Tuits: 1\", \"Fecha: 17:05:00<br>Tuits: 1\", \"Fecha: 17:06:00<br>Tuits: 1\", \"Fecha: 17:08:00<br>Tuits: 1\", \"Fecha: 17:10:00<br>Tuits: 1\", \"Fecha: 17:11:00<br>Tuits: 3\", \"Fecha: 17:15:00<br>Tuits: 1\", \"Fecha: 17:17:00<br>Tuits: 2\", \"Fecha: 17:18:00<br>Tuits: 1\", \"Fecha: 17:19:00<br>Tuits: 1\", \"Fecha: 17:20:00<br>Tuits: 1\", \"Fecha: 17:22:00<br>Tuits: 1\", \"Fecha: 17:23:00<br>Tuits: 1\", \"Fecha: 17:29:00<br>Tuits: 1\", \"Fecha: 17:31:00<br>Tuits: 1\", \"Fecha: 17:34:00<br>Tuits: 2\", \"Fecha: 17:35:00<br>Tuits: 1\", \"Fecha: 17:37:00<br>Tuits: 2\", \"Fecha: 17:38:00<br>Tuits: 1\", \"Fecha: 17:39:00<br>Tuits: 1\", \"Fecha: 17:40:00<br>Tuits: 1\", \"Fecha: 17:45:00<br>Tuits: 2\", \"Fecha: 17:46:00<br>Tuits: 1\", \"Fecha: 17:47:00<br>Tuits: 1\", \"Fecha: 17:58:00<br>Tuits: 2\", \"Fecha: 18:01:00<br>Tuits: 1\", \"Fecha: 18:02:00<br>Tuits: 1\", \"Fecha: 18:04:00<br>Tuits: 1\", \"Fecha: 18:05:00<br>Tuits: 2\", \"Fecha: 18:08:00<br>Tuits: 1\", \"Fecha: 18:09:00<br>Tuits: 2\", \"Fecha: 18:13:00<br>Tuits: 1\", \"Fecha: 18:15:00<br>Tuits: 1\", \"Fecha: 18:16:00<br>Tuits: 1\", \"Fecha: 18:18:00<br>Tuits: 2\", \"Fecha: 18:19:00<br>Tuits: 1\", \"Fecha: 18:20:00<br>Tuits: 1\", \"Fecha: 18:25:00<br>Tuits: 2\", \"Fecha: 18:29:00<br>Tuits: 1\", \"Fecha: 18:30:00<br>Tuits: 1\", \"Fecha: 18:32:00<br>Tuits: 1\", \"Fecha: 18:34:00<br>Tuits: 1\", \"Fecha: 18:35:00<br>Tuits: 1\", \"Fecha: 18:36:00<br>Tuits: 1\", \"Fecha: 18:38:00<br>Tuits: 2\", \"Fecha: 18:41:00<br>Tuits: 1\", \"Fecha: 18:43:00<br>Tuits: 2\", \"Fecha: 18:45:00<br>Tuits: 2\", \"Fecha: 18:50:00<br>Tuits: 2\", \"Fecha: 18:52:00<br>Tuits: 1\", \"Fecha: 18:55:00<br>Tuits: 1\", \"Fecha: 18:58:00<br>Tuits: 1\", \"Fecha: 19:01:00<br>Tuits: 1\", \"Fecha: 19:02:00<br>Tuits: 2\", \"Fecha: 19:08:00<br>Tuits: 1\", \"Fecha: 19:09:00<br>Tuits: 2\", \"Fecha: 19:15:00<br>Tuits: 1\", \"Fecha: 19:18:00<br>Tuits: 1\", \"Fecha: 19:27:00<br>Tuits: 1\", \"Fecha: 19:28:00<br>Tuits: 1\", \"Fecha: 19:33:00<br>Tuits: 1\", \"Fecha: 19:39:00<br>Tuits: 1\", \"Fecha: 19:42:00<br>Tuits: 1\", \"Fecha: 19:43:00<br>Tuits: 1\", \"Fecha: 19:46:00<br>Tuits: 2\", \"Fecha: 19:51:00<br>Tuits: 1\", \"Fecha: 19:52:00<br>Tuits: 2\", \"Fecha: 19:53:00<br>Tuits: 1\", \"Fecha: 19:54:00<br>Tuits: 1\", \"Fecha: 19:56:00<br>Tuits: 1\", \"Fecha: 19:57:00<br>Tuits: 1\", \"Fecha: 20:00:00<br>Tuits: 1\", \"Fecha: 20:02:00<br>Tuits: 1\", \"Fecha: 20:03:00<br>Tuits: 1\", \"Fecha: 20:04:00<br>Tuits: 1\", \"Fecha: 20:05:00<br>Tuits: 1\", \"Fecha: 20:11:00<br>Tuits: 1\"], \"type\": \"scatter\", \"x\": [\"16:59:00\", \"17:00:00\", \"17:01:00\", \"17:03:00\", \"17:05:00\", \"17:06:00\", \"17:08:00\", \"17:10:00\", \"17:11:00\", \"17:15:00\", \"17:17:00\", \"17:18:00\", \"17:19:00\", \"17:20:00\", \"17:22:00\", \"17:23:00\", \"17:29:00\", \"17:31:00\", \"17:34:00\", \"17:35:00\", \"17:37:00\", \"17:38:00\", \"17:39:00\", \"17:40:00\", \"17:45:00\", \"17:46:00\", \"17:47:00\", \"17:58:00\", \"18:01:00\", \"18:02:00\", \"18:04:00\", \"18:05:00\", \"18:08:00\", \"18:09:00\", \"18:13:00\", \"18:15:00\", \"18:16:00\", \"18:18:00\", \"18:19:00\", \"18:20:00\", \"18:25:00\", \"18:29:00\", \"18:30:00\", \"18:32:00\", \"18:34:00\", \"18:35:00\", \"18:36:00\", \"18:38:00\", \"18:41:00\", \"18:43:00\", \"18:45:00\", \"18:50:00\", \"18:52:00\", \"18:55:00\", \"18:58:00\", \"19:01:00\", \"19:02:00\", \"19:08:00\", \"19:09:00\", \"19:15:00\", \"19:18:00\", \"19:27:00\", \"19:28:00\", \"19:33:00\", \"19:39:00\", \"19:42:00\", \"19:43:00\", \"19:46:00\", \"19:51:00\", \"19:52:00\", \"19:53:00\", \"19:54:00\", \"19:56:00\", \"19:57:00\", \"20:00:00\", \"20:02:00\", \"20:03:00\", \"20:04:00\", \"20:05:00\", \"20:11:00\"], \"y\": [1, 1, 2, 1, 1, 1, 1, 1, 3, 1, 2, 1, 1, 1, 1, 1, 1, 1, 2, 1, 2, 1, 1, 1, 2, 1, 1, 2, 1, 1, 1, 2, 1, 2, 1, 1, 1, 2, 1, 1, 2, 1, 1, 1, 1, 1, 1, 2, 1, 2, 2, 2, 1, 1, 1, 1, 2, 1, 2, 1, 1, 1, 1, 1, 1, 1, 1, 2, 1, 2, 1, 1, 1, 1, 1, 1, 1, 1, 1, 1]}],                        {\"template\": {\"data\": {\"bar\": [{\"error_x\": {\"color\": \"#2a3f5f\"}, \"error_y\": {\"color\": \"#2a3f5f\"}, \"marker\": {\"line\": {\"color\": \"#E5ECF6\", \"width\": 0.5}}, \"type\": \"bar\"}], \"barpolar\": [{\"marker\": {\"line\": {\"color\": \"#E5ECF6\", \"width\": 0.5}}, \"type\": \"barpolar\"}], \"carpet\": [{\"aaxis\": {\"endlinecolor\": \"#2a3f5f\", \"gridcolor\": \"white\", \"linecolor\": \"white\", \"minorgridcolor\": \"white\", \"startlinecolor\": \"#2a3f5f\"}, \"baxis\": {\"endlinecolor\": \"#2a3f5f\", \"gridcolor\": \"white\", \"linecolor\": \"white\", \"minorgridcolor\": \"white\", \"startlinecolor\": \"#2a3f5f\"}, \"type\": \"carpet\"}], \"choropleth\": [{\"colorbar\": {\"outlinewidth\": 0, \"ticks\": \"\"}, \"type\": \"choropleth\"}], \"contour\": [{\"colorbar\": {\"outlinewidth\": 0, \"ticks\": \"\"}, \"colorscale\": [[0.0, \"#0d0887\"], [0.1111111111111111, \"#46039f\"], [0.2222222222222222, \"#7201a8\"], [0.3333333333333333, \"#9c179e\"], [0.4444444444444444, \"#bd3786\"], [0.5555555555555556, \"#d8576b\"], [0.6666666666666666, \"#ed7953\"], [0.7777777777777778, \"#fb9f3a\"], [0.8888888888888888, \"#fdca26\"], [1.0, \"#f0f921\"]], \"type\": \"contour\"}], \"contourcarpet\": [{\"colorbar\": {\"outlinewidth\": 0, \"ticks\": \"\"}, \"type\": \"contourcarpet\"}], \"heatmap\": [{\"colorbar\": {\"outlinewidth\": 0, \"ticks\": \"\"}, \"colorscale\": [[0.0, \"#0d0887\"], [0.1111111111111111, \"#46039f\"], [0.2222222222222222, \"#7201a8\"], [0.3333333333333333, \"#9c179e\"], [0.4444444444444444, \"#bd3786\"], [0.5555555555555556, \"#d8576b\"], [0.6666666666666666, \"#ed7953\"], [0.7777777777777778, \"#fb9f3a\"], [0.8888888888888888, \"#fdca26\"], [1.0, \"#f0f921\"]], \"type\": \"heatmap\"}], \"heatmapgl\": [{\"colorbar\": {\"outlinewidth\": 0, \"ticks\": \"\"}, \"colorscale\": [[0.0, \"#0d0887\"], [0.1111111111111111, \"#46039f\"], [0.2222222222222222, \"#7201a8\"], [0.3333333333333333, \"#9c179e\"], [0.4444444444444444, \"#bd3786\"], [0.5555555555555556, \"#d8576b\"], [0.6666666666666666, \"#ed7953\"], [0.7777777777777778, \"#fb9f3a\"], [0.8888888888888888, \"#fdca26\"], [1.0, \"#f0f921\"]], \"type\": \"heatmapgl\"}], \"histogram\": [{\"marker\": {\"colorbar\": {\"outlinewidth\": 0, \"ticks\": \"\"}}, \"type\": \"histogram\"}], \"histogram2d\": [{\"colorbar\": {\"outlinewidth\": 0, \"ticks\": \"\"}, \"colorscale\": [[0.0, \"#0d0887\"], [0.1111111111111111, \"#46039f\"], [0.2222222222222222, \"#7201a8\"], [0.3333333333333333, \"#9c179e\"], [0.4444444444444444, \"#bd3786\"], [0.5555555555555556, \"#d8576b\"], [0.6666666666666666, \"#ed7953\"], [0.7777777777777778, \"#fb9f3a\"], [0.8888888888888888, \"#fdca26\"], [1.0, \"#f0f921\"]], \"type\": \"histogram2d\"}], \"histogram2dcontour\": [{\"colorbar\": {\"outlinewidth\": 0, \"ticks\": \"\"}, \"colorscale\": [[0.0, \"#0d0887\"], [0.1111111111111111, \"#46039f\"], [0.2222222222222222, \"#7201a8\"], [0.3333333333333333, \"#9c179e\"], [0.4444444444444444, \"#bd3786\"], [0.5555555555555556, \"#d8576b\"], [0.6666666666666666, \"#ed7953\"], [0.7777777777777778, \"#fb9f3a\"], [0.8888888888888888, \"#fdca26\"], [1.0, \"#f0f921\"]], \"type\": \"histogram2dcontour\"}], \"mesh3d\": [{\"colorbar\": {\"outlinewidth\": 0, \"ticks\": \"\"}, \"type\": \"mesh3d\"}], \"parcoords\": [{\"line\": {\"colorbar\": {\"outlinewidth\": 0, \"ticks\": \"\"}}, \"type\": \"parcoords\"}], \"pie\": [{\"automargin\": true, \"type\": \"pie\"}], \"scatter\": [{\"marker\": {\"colorbar\": {\"outlinewidth\": 0, \"ticks\": \"\"}}, \"type\": \"scatter\"}], \"scatter3d\": [{\"line\": {\"colorbar\": {\"outlinewidth\": 0, \"ticks\": \"\"}}, \"marker\": {\"colorbar\": {\"outlinewidth\": 0, \"ticks\": \"\"}}, \"type\": \"scatter3d\"}], \"scattercarpet\": [{\"marker\": {\"colorbar\": {\"outlinewidth\": 0, \"ticks\": \"\"}}, \"type\": \"scattercarpet\"}], \"scattergeo\": [{\"marker\": {\"colorbar\": {\"outlinewidth\": 0, \"ticks\": \"\"}}, \"type\": \"scattergeo\"}], \"scattergl\": [{\"marker\": {\"colorbar\": {\"outlinewidth\": 0, \"ticks\": \"\"}}, \"type\": \"scattergl\"}], \"scattermapbox\": [{\"marker\": {\"colorbar\": {\"outlinewidth\": 0, \"ticks\": \"\"}}, \"type\": \"scattermapbox\"}], \"scatterpolar\": [{\"marker\": {\"colorbar\": {\"outlinewidth\": 0, \"ticks\": \"\"}}, \"type\": \"scatterpolar\"}], \"scatterpolargl\": [{\"marker\": {\"colorbar\": {\"outlinewidth\": 0, \"ticks\": \"\"}}, \"type\": \"scatterpolargl\"}], \"scatterternary\": [{\"marker\": {\"colorbar\": {\"outlinewidth\": 0, \"ticks\": \"\"}}, \"type\": \"scatterternary\"}], \"surface\": [{\"colorbar\": {\"outlinewidth\": 0, \"ticks\": \"\"}, \"colorscale\": [[0.0, \"#0d0887\"], [0.1111111111111111, \"#46039f\"], [0.2222222222222222, \"#7201a8\"], [0.3333333333333333, \"#9c179e\"], [0.4444444444444444, \"#bd3786\"], [0.5555555555555556, \"#d8576b\"], [0.6666666666666666, \"#ed7953\"], [0.7777777777777778, \"#fb9f3a\"], [0.8888888888888888, \"#fdca26\"], [1.0, \"#f0f921\"]], \"type\": \"surface\"}], \"table\": [{\"cells\": {\"fill\": {\"color\": \"#EBF0F8\"}, \"line\": {\"color\": \"white\"}}, \"header\": {\"fill\": {\"color\": \"#C8D4E3\"}, \"line\": {\"color\": \"white\"}}, \"type\": \"table\"}]}, \"layout\": {\"annotationdefaults\": {\"arrowcolor\": \"#2a3f5f\", \"arrowhead\": 0, \"arrowwidth\": 1}, \"autotypenumbers\": \"strict\", \"coloraxis\": {\"colorbar\": {\"outlinewidth\": 0, \"ticks\": \"\"}}, \"colorscale\": {\"diverging\": [[0, \"#8e0152\"], [0.1, \"#c51b7d\"], [0.2, \"#de77ae\"], [0.3, \"#f1b6da\"], [0.4, \"#fde0ef\"], [0.5, \"#f7f7f7\"], [0.6, \"#e6f5d0\"], [0.7, \"#b8e186\"], [0.8, \"#7fbc41\"], [0.9, \"#4d9221\"], [1, \"#276419\"]], \"sequential\": [[0.0, \"#0d0887\"], [0.1111111111111111, \"#46039f\"], [0.2222222222222222, \"#7201a8\"], [0.3333333333333333, \"#9c179e\"], [0.4444444444444444, \"#bd3786\"], [0.5555555555555556, \"#d8576b\"], [0.6666666666666666, \"#ed7953\"], [0.7777777777777778, \"#fb9f3a\"], [0.8888888888888888, \"#fdca26\"], [1.0, \"#f0f921\"]], \"sequentialminus\": [[0.0, \"#0d0887\"], [0.1111111111111111, \"#46039f\"], [0.2222222222222222, \"#7201a8\"], [0.3333333333333333, \"#9c179e\"], [0.4444444444444444, \"#bd3786\"], [0.5555555555555556, \"#d8576b\"], [0.6666666666666666, \"#ed7953\"], [0.7777777777777778, \"#fb9f3a\"], [0.8888888888888888, \"#fdca26\"], [1.0, \"#f0f921\"]]}, \"colorway\": [\"#636efa\", \"#EF553B\", \"#00cc96\", \"#ab63fa\", \"#FFA15A\", \"#19d3f3\", \"#FF6692\", \"#B6E880\", \"#FF97FF\", \"#FECB52\"], \"font\": {\"color\": \"#2a3f5f\"}, \"geo\": {\"bgcolor\": \"white\", \"lakecolor\": \"white\", \"landcolor\": \"#E5ECF6\", \"showlakes\": true, \"showland\": true, \"subunitcolor\": \"white\"}, \"hoverlabel\": {\"align\": \"left\"}, \"hovermode\": \"closest\", \"mapbox\": {\"style\": \"light\"}, \"paper_bgcolor\": \"white\", \"plot_bgcolor\": \"#E5ECF6\", \"polar\": {\"angularaxis\": {\"gridcolor\": \"white\", \"linecolor\": \"white\", \"ticks\": \"\"}, \"bgcolor\": \"#E5ECF6\", \"radialaxis\": {\"gridcolor\": \"white\", \"linecolor\": \"white\", \"ticks\": \"\"}}, \"scene\": {\"xaxis\": {\"backgroundcolor\": \"#E5ECF6\", \"gridcolor\": \"white\", \"gridwidth\": 2, \"linecolor\": \"white\", \"showbackground\": true, \"ticks\": \"\", \"zerolinecolor\": \"white\"}, \"yaxis\": {\"backgroundcolor\": \"#E5ECF6\", \"gridcolor\": \"white\", \"gridwidth\": 2, \"linecolor\": \"white\", \"showbackground\": true, \"ticks\": \"\", \"zerolinecolor\": \"white\"}, \"zaxis\": {\"backgroundcolor\": \"#E5ECF6\", \"gridcolor\": \"white\", \"gridwidth\": 2, \"linecolor\": \"white\", \"showbackground\": true, \"ticks\": \"\", \"zerolinecolor\": \"white\"}}, \"shapedefaults\": {\"line\": {\"color\": \"#2a3f5f\"}}, \"ternary\": {\"aaxis\": {\"gridcolor\": \"white\", \"linecolor\": \"white\", \"ticks\": \"\"}, \"baxis\": {\"gridcolor\": \"white\", \"linecolor\": \"white\", \"ticks\": \"\"}, \"bgcolor\": \"#E5ECF6\", \"caxis\": {\"gridcolor\": \"white\", \"linecolor\": \"white\", \"ticks\": \"\"}}, \"title\": {\"x\": 0.05}, \"xaxis\": {\"automargin\": true, \"gridcolor\": \"white\", \"linecolor\": \"white\", \"ticks\": \"\", \"title\": {\"standoff\": 15}, \"zerolinecolor\": \"white\", \"zerolinewidth\": 2}, \"yaxis\": {\"automargin\": true, \"gridcolor\": \"white\", \"linecolor\": \"white\", \"ticks\": \"\", \"title\": {\"standoff\": 15}, \"zerolinecolor\": \"white\", \"zerolinewidth\": 2}}}, \"title\": {\"text\": \"N\\u00famero de tuits por hora\"}},                        {\"responsive\": true}                    ).then(function(){\n",
       "                            \n",
       "var gd = document.getElementById('576fa2b3-9725-4feb-a674-ec5874c3da13');\n",
       "var x = new MutationObserver(function (mutations, observer) {{\n",
       "        var display = window.getComputedStyle(gd).display;\n",
       "        if (!display || display === 'none') {{\n",
       "            console.log([gd, 'removed!']);\n",
       "            Plotly.purge(gd);\n",
       "            observer.disconnect();\n",
       "        }}\n",
       "}});\n",
       "\n",
       "// Listen for the removal of the full notebook cells\n",
       "var notebookContainer = gd.closest('#notebook-container');\n",
       "if (notebookContainer) {{\n",
       "    x.observe(notebookContainer, {childList: true});\n",
       "}}\n",
       "\n",
       "// Listen for the clearing of the current output cell\n",
       "var outputEl = gd.closest('.output');\n",
       "if (outputEl) {{\n",
       "    x.observe(outputEl, {childList: true});\n",
       "}}\n",
       "\n",
       "                        })                };                });            </script>        </div>"
      ]
     },
     "metadata": {},
     "output_type": "display_data"
    }
   ],
   "source": [
    "trace = go.Scatter(x=temp.hora.values,\n",
    "                   y=temp.cnt.values,\n",
    "                   text=[f\"Fecha: {f}<br>Tuits: {c}\" for f,c in zip(temp.hora.values,temp.cnt.values)],\n",
    "                   hoverinfo='text',\n",
    "                   mode='lines+markers',\n",
    "                   name='Horas',\n",
    "                   line={'color': 'purple'})\n",
    "\n",
    "layout = go.Layout(title=\"Número de tuits por hora\")\n",
    "\n",
    "fig = go.Figure(data=[trace], layout=layout)\n",
    "iplot(fig)"
   ]
  },
  {
   "cell_type": "code",
   "execution_count": null,
   "id": "7a0ff1ba",
   "metadata": {},
   "outputs": [],
   "source": []
  }
 ],
 "metadata": {
  "kernelspec": {
   "display_name": "Python 3",
   "language": "python",
   "name": "python3"
  },
  "language_info": {
   "codemirror_mode": {
    "name": "ipython",
    "version": 3
   },
   "file_extension": ".py",
   "mimetype": "text/x-python",
   "name": "python",
   "nbconvert_exporter": "python",
   "pygments_lexer": "ipython3",
   "version": "3.8.8"
  }
 },
 "nbformat": 4,
 "nbformat_minor": 5
}
